{
 "cells": [
  {
   "cell_type": "code",
   "execution_count": 80,
   "metadata": {},
   "outputs": [],
   "source": [
    "import pandas as pd\n",
    "import numpy as np\n",
    "import seaborn as sns"
   ]
  },
  {
   "cell_type": "code",
   "execution_count": null,
   "metadata": {},
   "outputs": [],
   "source": [
    "### Load csv file."
   ]
  },
  {
   "cell_type": "code",
   "execution_count": 81,
   "metadata": {},
   "outputs": [],
   "source": [
    "df = pd.read_csv('infantMortalityRate.csv')"
   ]
  },
  {
   "cell_type": "code",
   "execution_count": null,
   "metadata": {},
   "outputs": [],
   "source": [
    "### Gather info on loaded file."
   ]
  },
  {
   "cell_type": "code",
   "execution_count": 82,
   "metadata": {},
   "outputs": [
    {
     "data": {
      "text/html": [
       "<div>\n",
       "<style scoped>\n",
       "    .dataframe tbody tr th:only-of-type {\n",
       "        vertical-align: middle;\n",
       "    }\n",
       "\n",
       "    .dataframe tbody tr th {\n",
       "        vertical-align: top;\n",
       "    }\n",
       "\n",
       "    .dataframe thead th {\n",
       "        text-align: right;\n",
       "    }\n",
       "</style>\n",
       "<table border=\"1\" class=\"dataframe\">\n",
       "  <thead>\n",
       "    <tr style=\"text-align: right;\">\n",
       "      <th></th>\n",
       "      <th>Location</th>\n",
       "      <th>Period</th>\n",
       "      <th>Indicator</th>\n",
       "      <th>Dim1</th>\n",
       "      <th>First Tooltip</th>\n",
       "    </tr>\n",
       "  </thead>\n",
       "  <tbody>\n",
       "    <tr>\n",
       "      <th>0</th>\n",
       "      <td>Afghanistan</td>\n",
       "      <td>2019</td>\n",
       "      <td>Infant mortality rate (probability of dying be...</td>\n",
       "      <td>Both sexes</td>\n",
       "      <td>46.51 [37.71-55.82]</td>\n",
       "    </tr>\n",
       "    <tr>\n",
       "      <th>1</th>\n",
       "      <td>Afghanistan</td>\n",
       "      <td>2019</td>\n",
       "      <td>Infant mortality rate (probability of dying be...</td>\n",
       "      <td>Male</td>\n",
       "      <td>49.8 [40.2-59.95]</td>\n",
       "    </tr>\n",
       "    <tr>\n",
       "      <th>2</th>\n",
       "      <td>Afghanistan</td>\n",
       "      <td>2019</td>\n",
       "      <td>Infant mortality rate (probability of dying be...</td>\n",
       "      <td>Female</td>\n",
       "      <td>43.05 [34.82-51.96]</td>\n",
       "    </tr>\n",
       "    <tr>\n",
       "      <th>3</th>\n",
       "      <td>Afghanistan</td>\n",
       "      <td>2018</td>\n",
       "      <td>Infant mortality rate (probability of dying be...</td>\n",
       "      <td>Both sexes</td>\n",
       "      <td>48.04 [39.94-56.32]</td>\n",
       "    </tr>\n",
       "    <tr>\n",
       "      <th>4</th>\n",
       "      <td>Afghanistan</td>\n",
       "      <td>2018</td>\n",
       "      <td>Infant mortality rate (probability of dying be...</td>\n",
       "      <td>Male</td>\n",
       "      <td>51.35 [42.56-60.4]</td>\n",
       "    </tr>\n",
       "  </tbody>\n",
       "</table>\n",
       "</div>"
      ],
      "text/plain": [
       "      Location  Period                                          Indicator  \\\n",
       "0  Afghanistan    2019  Infant mortality rate (probability of dying be...   \n",
       "1  Afghanistan    2019  Infant mortality rate (probability of dying be...   \n",
       "2  Afghanistan    2019  Infant mortality rate (probability of dying be...   \n",
       "3  Afghanistan    2018  Infant mortality rate (probability of dying be...   \n",
       "4  Afghanistan    2018  Infant mortality rate (probability of dying be...   \n",
       "\n",
       "         Dim1        First Tooltip  \n",
       "0  Both sexes  46.51 [37.71-55.82]  \n",
       "1        Male    49.8 [40.2-59.95]  \n",
       "2      Female  43.05 [34.82-51.96]  \n",
       "3  Both sexes  48.04 [39.94-56.32]  \n",
       "4        Male   51.35 [42.56-60.4]  "
      ]
     },
     "execution_count": 82,
     "metadata": {},
     "output_type": "execute_result"
    }
   ],
   "source": [
    "df.head()"
   ]
  },
  {
   "cell_type": "code",
   "execution_count": 83,
   "metadata": {},
   "outputs": [
    {
     "data": {
      "text/html": [
       "<div>\n",
       "<style scoped>\n",
       "    .dataframe tbody tr th:only-of-type {\n",
       "        vertical-align: middle;\n",
       "    }\n",
       "\n",
       "    .dataframe tbody tr th {\n",
       "        vertical-align: top;\n",
       "    }\n",
       "\n",
       "    .dataframe thead th {\n",
       "        text-align: right;\n",
       "    }\n",
       "</style>\n",
       "<table border=\"1\" class=\"dataframe\">\n",
       "  <thead>\n",
       "    <tr style=\"text-align: right;\">\n",
       "      <th></th>\n",
       "      <th>Location</th>\n",
       "      <th>Period</th>\n",
       "      <th>Indicator</th>\n",
       "      <th>Dim1</th>\n",
       "      <th>First Tooltip</th>\n",
       "    </tr>\n",
       "  </thead>\n",
       "  <tbody>\n",
       "    <tr>\n",
       "      <th>0</th>\n",
       "      <td>Afghanistan</td>\n",
       "      <td>2019</td>\n",
       "      <td>Infant mortality rate (probability of dying be...</td>\n",
       "      <td>Both sexes</td>\n",
       "      <td>46.51 [37.71-55.82]</td>\n",
       "    </tr>\n",
       "    <tr>\n",
       "      <th>1</th>\n",
       "      <td>Afghanistan</td>\n",
       "      <td>2019</td>\n",
       "      <td>Infant mortality rate (probability of dying be...</td>\n",
       "      <td>Male</td>\n",
       "      <td>49.8 [40.2-59.95]</td>\n",
       "    </tr>\n",
       "    <tr>\n",
       "      <th>2</th>\n",
       "      <td>Afghanistan</td>\n",
       "      <td>2019</td>\n",
       "      <td>Infant mortality rate (probability of dying be...</td>\n",
       "      <td>Female</td>\n",
       "      <td>43.05 [34.82-51.96]</td>\n",
       "    </tr>\n",
       "    <tr>\n",
       "      <th>3</th>\n",
       "      <td>Afghanistan</td>\n",
       "      <td>2018</td>\n",
       "      <td>Infant mortality rate (probability of dying be...</td>\n",
       "      <td>Both sexes</td>\n",
       "      <td>48.04 [39.94-56.32]</td>\n",
       "    </tr>\n",
       "    <tr>\n",
       "      <th>4</th>\n",
       "      <td>Afghanistan</td>\n",
       "      <td>2018</td>\n",
       "      <td>Infant mortality rate (probability of dying be...</td>\n",
       "      <td>Male</td>\n",
       "      <td>51.35 [42.56-60.4]</td>\n",
       "    </tr>\n",
       "    <tr>\n",
       "      <th>5</th>\n",
       "      <td>Afghanistan</td>\n",
       "      <td>2018</td>\n",
       "      <td>Infant mortality rate (probability of dying be...</td>\n",
       "      <td>Female</td>\n",
       "      <td>44.56 [36.88-52.43]</td>\n",
       "    </tr>\n",
       "    <tr>\n",
       "      <th>6</th>\n",
       "      <td>Afghanistan</td>\n",
       "      <td>2017</td>\n",
       "      <td>Infant mortality rate (probability of dying be...</td>\n",
       "      <td>Both sexes</td>\n",
       "      <td>49.61 [42.08-57.23]</td>\n",
       "    </tr>\n",
       "    <tr>\n",
       "      <th>7</th>\n",
       "      <td>Afghanistan</td>\n",
       "      <td>2017</td>\n",
       "      <td>Infant mortality rate (probability of dying be...</td>\n",
       "      <td>Male</td>\n",
       "      <td>52.95 [44.77-61.25]</td>\n",
       "    </tr>\n",
       "    <tr>\n",
       "      <th>8</th>\n",
       "      <td>Afghanistan</td>\n",
       "      <td>2017</td>\n",
       "      <td>Infant mortality rate (probability of dying be...</td>\n",
       "      <td>Female</td>\n",
       "      <td>46.12 [38.95-53.2]</td>\n",
       "    </tr>\n",
       "    <tr>\n",
       "      <th>9</th>\n",
       "      <td>Afghanistan</td>\n",
       "      <td>2016</td>\n",
       "      <td>Infant mortality rate (probability of dying be...</td>\n",
       "      <td>Both sexes</td>\n",
       "      <td>51.32 [44.36-58.38]</td>\n",
       "    </tr>\n",
       "  </tbody>\n",
       "</table>\n",
       "</div>"
      ],
      "text/plain": [
       "      Location  Period                                          Indicator  \\\n",
       "0  Afghanistan    2019  Infant mortality rate (probability of dying be...   \n",
       "1  Afghanistan    2019  Infant mortality rate (probability of dying be...   \n",
       "2  Afghanistan    2019  Infant mortality rate (probability of dying be...   \n",
       "3  Afghanistan    2018  Infant mortality rate (probability of dying be...   \n",
       "4  Afghanistan    2018  Infant mortality rate (probability of dying be...   \n",
       "5  Afghanistan    2018  Infant mortality rate (probability of dying be...   \n",
       "6  Afghanistan    2017  Infant mortality rate (probability of dying be...   \n",
       "7  Afghanistan    2017  Infant mortality rate (probability of dying be...   \n",
       "8  Afghanistan    2017  Infant mortality rate (probability of dying be...   \n",
       "9  Afghanistan    2016  Infant mortality rate (probability of dying be...   \n",
       "\n",
       "         Dim1        First Tooltip  \n",
       "0  Both sexes  46.51 [37.71-55.82]  \n",
       "1        Male    49.8 [40.2-59.95]  \n",
       "2      Female  43.05 [34.82-51.96]  \n",
       "3  Both sexes  48.04 [39.94-56.32]  \n",
       "4        Male   51.35 [42.56-60.4]  \n",
       "5      Female  44.56 [36.88-52.43]  \n",
       "6  Both sexes  49.61 [42.08-57.23]  \n",
       "7        Male  52.95 [44.77-61.25]  \n",
       "8      Female   46.12 [38.95-53.2]  \n",
       "9  Both sexes  51.32 [44.36-58.38]  "
      ]
     },
     "execution_count": 83,
     "metadata": {},
     "output_type": "execute_result"
    }
   ],
   "source": [
    "df.head(10)"
   ]
  },
  {
   "cell_type": "code",
   "execution_count": 84,
   "metadata": {},
   "outputs": [
    {
     "name": "stdout",
     "output_type": "stream",
     "text": [
      "(29999, 5)\n"
     ]
    }
   ],
   "source": [
    "print(df.shape)"
   ]
  },
  {
   "cell_type": "code",
   "execution_count": 85,
   "metadata": {},
   "outputs": [
    {
     "name": "stdout",
     "output_type": "stream",
     "text": [
      "Index(['Location', 'Period', 'Indicator', 'Dim1', 'First Tooltip'], dtype='object')\n"
     ]
    }
   ],
   "source": [
    "print(df.columns)"
   ]
  },
  {
   "cell_type": "code",
   "execution_count": 86,
   "metadata": {},
   "outputs": [
    {
     "name": "stdout",
     "output_type": "stream",
     "text": [
      "<class 'pandas.core.frame.DataFrame'>\n",
      "RangeIndex: 29999 entries, 0 to 29998\n",
      "Data columns (total 5 columns):\n",
      " #   Column         Non-Null Count  Dtype \n",
      "---  ------         --------------  ----- \n",
      " 0   Location       29999 non-null  object\n",
      " 1   Period         29999 non-null  int64 \n",
      " 2   Indicator      29999 non-null  object\n",
      " 3   Dim1           29999 non-null  object\n",
      " 4   First Tooltip  29999 non-null  object\n",
      "dtypes: int64(1), object(4)\n",
      "memory usage: 1.1+ MB\n",
      "None\n"
     ]
    }
   ],
   "source": [
    "print(df.info())"
   ]
  },
  {
   "cell_type": "code",
   "execution_count": 91,
   "metadata": {},
   "outputs": [],
   "source": [
    "df['Location'] = df['Location'].astype('str')"
   ]
  },
  {
   "cell_type": "code",
   "execution_count": 102,
   "metadata": {},
   "outputs": [
    {
     "data": {
      "text/html": [
       "<div>\n",
       "<style scoped>\n",
       "    .dataframe tbody tr th:only-of-type {\n",
       "        vertical-align: middle;\n",
       "    }\n",
       "\n",
       "    .dataframe tbody tr th {\n",
       "        vertical-align: top;\n",
       "    }\n",
       "\n",
       "    .dataframe thead th {\n",
       "        text-align: right;\n",
       "    }\n",
       "</style>\n",
       "<table border=\"1\" class=\"dataframe\">\n",
       "  <thead>\n",
       "    <tr style=\"text-align: right;\">\n",
       "      <th></th>\n",
       "      <th>Location</th>\n",
       "      <th>Indicator</th>\n",
       "      <th>Dim1</th>\n",
       "      <th>First Tooltip</th>\n",
       "    </tr>\n",
       "  </thead>\n",
       "  <tbody>\n",
       "    <tr>\n",
       "      <th>count</th>\n",
       "      <td>29999</td>\n",
       "      <td>29999</td>\n",
       "      <td>29999</td>\n",
       "      <td>29999</td>\n",
       "    </tr>\n",
       "    <tr>\n",
       "      <th>unique</th>\n",
       "      <td>177</td>\n",
       "      <td>1</td>\n",
       "      <td>3</td>\n",
       "      <td>29803</td>\n",
       "    </tr>\n",
       "    <tr>\n",
       "      <th>top</th>\n",
       "      <td>Bangladesh</td>\n",
       "      <td>Infant mortality rate (probability of dying be...</td>\n",
       "      <td>Both sexes</td>\n",
       "      <td>103.6 [84.23-130.7]</td>\n",
       "    </tr>\n",
       "    <tr>\n",
       "      <th>freq</th>\n",
       "      <td>210</td>\n",
       "      <td>29999</td>\n",
       "      <td>10000</td>\n",
       "      <td>11</td>\n",
       "    </tr>\n",
       "  </tbody>\n",
       "</table>\n",
       "</div>"
      ],
      "text/plain": [
       "          Location                                          Indicator  \\\n",
       "count        29999                                              29999   \n",
       "unique         177                                                  1   \n",
       "top     Bangladesh  Infant mortality rate (probability of dying be...   \n",
       "freq           210                                              29999   \n",
       "\n",
       "              Dim1        First Tooltip  \n",
       "count        29999                29999  \n",
       "unique           3                29803  \n",
       "top     Both sexes  103.6 [84.23-130.7]  \n",
       "freq         10000                   11  "
      ]
     },
     "execution_count": 102,
     "metadata": {},
     "output_type": "execute_result"
    }
   ],
   "source": [
    "df.describe(include=['object'])"
   ]
  },
  {
   "cell_type": "code",
   "execution_count": 103,
   "metadata": {},
   "outputs": [],
   "source": [
    "### Sort the data"
   ]
  },
  {
   "cell_type": "code",
   "execution_count": 104,
   "metadata": {},
   "outputs": [
    {
     "data": {
      "text/html": [
       "<div>\n",
       "<style scoped>\n",
       "    .dataframe tbody tr th:only-of-type {\n",
       "        vertical-align: middle;\n",
       "    }\n",
       "\n",
       "    .dataframe tbody tr th {\n",
       "        vertical-align: top;\n",
       "    }\n",
       "\n",
       "    .dataframe thead th {\n",
       "        text-align: right;\n",
       "    }\n",
       "</style>\n",
       "<table border=\"1\" class=\"dataframe\">\n",
       "  <thead>\n",
       "    <tr style=\"text-align: right;\">\n",
       "      <th></th>\n",
       "      <th>Location</th>\n",
       "      <th>Period</th>\n",
       "      <th>Indicator</th>\n",
       "      <th>Dim1</th>\n",
       "      <th>First Tooltip</th>\n",
       "    </tr>\n",
       "  </thead>\n",
       "  <tbody>\n",
       "    <tr>\n",
       "      <th>1</th>\n",
       "      <td>Afghanistan</td>\n",
       "      <td>2019</td>\n",
       "      <td>Infant mortality rate (probability of dying be...</td>\n",
       "      <td>Male</td>\n",
       "      <td>49.8 [40.2-59.95]</td>\n",
       "    </tr>\n",
       "    <tr>\n",
       "      <th>175</th>\n",
       "      <td>Albania</td>\n",
       "      <td>2019</td>\n",
       "      <td>Infant mortality rate (probability of dying be...</td>\n",
       "      <td>Male</td>\n",
       "      <td>9.52 [8.89-10.23]</td>\n",
       "    </tr>\n",
       "    <tr>\n",
       "      <th>301</th>\n",
       "      <td>Algeria</td>\n",
       "      <td>2019</td>\n",
       "      <td>Infant mortality rate (probability of dying be...</td>\n",
       "      <td>Male</td>\n",
       "      <td>21.25 [20.56-21.97]</td>\n",
       "    </tr>\n",
       "    <tr>\n",
       "      <th>499</th>\n",
       "      <td>Andorra</td>\n",
       "      <td>2019</td>\n",
       "      <td>Infant mortality rate (probability of dying be...</td>\n",
       "      <td>Male</td>\n",
       "      <td>3.09 [0.89-11.52]</td>\n",
       "    </tr>\n",
       "    <tr>\n",
       "      <th>604</th>\n",
       "      <td>Angola</td>\n",
       "      <td>2019</td>\n",
       "      <td>Infant mortality rate (probability of dying be...</td>\n",
       "      <td>Male</td>\n",
       "      <td>55.25 [29.29-95.39]</td>\n",
       "    </tr>\n",
       "  </tbody>\n",
       "</table>\n",
       "</div>"
      ],
      "text/plain": [
       "        Location  Period                                          Indicator  \\\n",
       "1    Afghanistan    2019  Infant mortality rate (probability of dying be...   \n",
       "175      Albania    2019  Infant mortality rate (probability of dying be...   \n",
       "301      Algeria    2019  Infant mortality rate (probability of dying be...   \n",
       "499      Andorra    2019  Infant mortality rate (probability of dying be...   \n",
       "604       Angola    2019  Infant mortality rate (probability of dying be...   \n",
       "\n",
       "     Dim1        First Tooltip  \n",
       "1    Male    49.8 [40.2-59.95]  \n",
       "175  Male    9.52 [8.89-10.23]  \n",
       "301  Male  21.25 [20.56-21.97]  \n",
       "499  Male    3.09 [0.89-11.52]  \n",
       "604  Male  55.25 [29.29-95.39]  "
      ]
     },
     "execution_count": 104,
     "metadata": {},
     "output_type": "execute_result"
    }
   ],
   "source": [
    "df.sort_values(by=['Period', 'Dim1'], ascending =[False , False]).head()"
   ]
  },
  {
   "cell_type": "code",
   "execution_count": null,
   "metadata": {},
   "outputs": [],
   "source": [
    "### To get the maximum data entry."
   ]
  },
  {
   "cell_type": "code",
   "execution_count": 112,
   "metadata": {},
   "outputs": [
    {
     "data": {
      "text/plain": [
       "Location                                               Timor-Leste\n",
       "Period                                                        2019\n",
       "Indicator        Infant mortality rate (probability of dying be...\n",
       "Dim1                                                          Male\n",
       "First Tooltip                                  99.99 [95.56-104.8]\n",
       "dtype: object"
      ]
     },
     "execution_count": 112,
     "metadata": {},
     "output_type": "execute_result"
    }
   ],
   "source": [
    "df.apply(np.max)"
   ]
  },
  {
   "cell_type": "code",
   "execution_count": 113,
   "metadata": {},
   "outputs": [],
   "source": [
    "### Getting a summary of useful data"
   ]
  },
  {
   "cell_type": "code",
   "execution_count": 143,
   "metadata": {},
   "outputs": [
    {
     "data": {
      "text/html": [
       "<div>\n",
       "<style scoped>\n",
       "    .dataframe tbody tr th:only-of-type {\n",
       "        vertical-align: middle;\n",
       "    }\n",
       "\n",
       "    .dataframe tbody tr th {\n",
       "        vertical-align: top;\n",
       "    }\n",
       "\n",
       "    .dataframe thead th {\n",
       "        text-align: right;\n",
       "    }\n",
       "</style>\n",
       "<table border=\"1\" class=\"dataframe\">\n",
       "  <thead>\n",
       "    <tr style=\"text-align: right;\">\n",
       "      <th>Dim1</th>\n",
       "      <th>Both sexes</th>\n",
       "      <th>Female</th>\n",
       "      <th>Male</th>\n",
       "    </tr>\n",
       "    <tr>\n",
       "      <th>Period</th>\n",
       "      <th></th>\n",
       "      <th></th>\n",
       "      <th></th>\n",
       "    </tr>\n",
       "  </thead>\n",
       "  <tbody>\n",
       "    <tr>\n",
       "      <th>1950</th>\n",
       "      <td>49</td>\n",
       "      <td>49</td>\n",
       "      <td>49</td>\n",
       "    </tr>\n",
       "    <tr>\n",
       "      <th>1951</th>\n",
       "      <td>57</td>\n",
       "      <td>57</td>\n",
       "      <td>57</td>\n",
       "    </tr>\n",
       "    <tr>\n",
       "      <th>1952</th>\n",
       "      <td>64</td>\n",
       "      <td>64</td>\n",
       "      <td>64</td>\n",
       "    </tr>\n",
       "    <tr>\n",
       "      <th>1953</th>\n",
       "      <td>68</td>\n",
       "      <td>68</td>\n",
       "      <td>68</td>\n",
       "    </tr>\n",
       "    <tr>\n",
       "      <th>1954</th>\n",
       "      <td>70</td>\n",
       "      <td>70</td>\n",
       "      <td>70</td>\n",
       "    </tr>\n",
       "    <tr>\n",
       "      <th>...</th>\n",
       "      <td>...</td>\n",
       "      <td>...</td>\n",
       "      <td>...</td>\n",
       "    </tr>\n",
       "    <tr>\n",
       "      <th>2015</th>\n",
       "      <td>172</td>\n",
       "      <td>172</td>\n",
       "      <td>172</td>\n",
       "    </tr>\n",
       "    <tr>\n",
       "      <th>2016</th>\n",
       "      <td>172</td>\n",
       "      <td>172</td>\n",
       "      <td>172</td>\n",
       "    </tr>\n",
       "    <tr>\n",
       "      <th>2017</th>\n",
       "      <td>172</td>\n",
       "      <td>172</td>\n",
       "      <td>172</td>\n",
       "    </tr>\n",
       "    <tr>\n",
       "      <th>2018</th>\n",
       "      <td>172</td>\n",
       "      <td>172</td>\n",
       "      <td>172</td>\n",
       "    </tr>\n",
       "    <tr>\n",
       "      <th>2019</th>\n",
       "      <td>172</td>\n",
       "      <td>172</td>\n",
       "      <td>172</td>\n",
       "    </tr>\n",
       "  </tbody>\n",
       "</table>\n",
       "<p>70 rows × 3 columns</p>\n",
       "</div>"
      ],
      "text/plain": [
       "Dim1    Both sexes  Female  Male\n",
       "Period                          \n",
       "1950            49      49    49\n",
       "1951            57      57    57\n",
       "1952            64      64    64\n",
       "1953            68      68    68\n",
       "1954            70      70    70\n",
       "...            ...     ...   ...\n",
       "2015           172     172   172\n",
       "2016           172     172   172\n",
       "2017           172     172   172\n",
       "2018           172     172   172\n",
       "2019           172     172   172\n",
       "\n",
       "[70 rows x 3 columns]"
      ]
     },
     "execution_count": 143,
     "metadata": {},
     "output_type": "execute_result"
    }
   ],
   "source": [
    "pd.crosstab(df['Period'], df['Dim1'])"
   ]
  }
 ],
 "metadata": {
  "kernelspec": {
   "display_name": "Python 3",
   "language": "python",
   "name": "python3"
  },
  "language_info": {
   "codemirror_mode": {
    "name": "ipython",
    "version": 3
   },
   "file_extension": ".py",
   "mimetype": "text/x-python",
   "name": "python",
   "nbconvert_exporter": "python",
   "pygments_lexer": "ipython3",
   "version": "3.7.9"
  }
 },
 "nbformat": 4,
 "nbformat_minor": 4
}
